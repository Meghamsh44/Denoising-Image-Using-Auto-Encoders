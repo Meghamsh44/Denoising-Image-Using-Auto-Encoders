{
  "cells": [
    {
      "cell_type": "markdown",
      "metadata": {
        "id": "GDRCYfseW9qS"
      },
      "source": [
        "## **For Dataset vist below link:**\n",
        "https://www.kaggle.com/datasets/zalando-research/fashionmnist"
      ]
    },
    {
      "cell_type": "code",
      "execution_count": null,
      "metadata": {
        "colab": {
          "base_uri": "https://localhost:8080/"
        },
        "id": "oNqMHxB80v0z",
        "outputId": "db16a026-fd77-4cf4-d86d-ee6ba3167259"
      },
      "outputs": [
        {
          "name": "stdout",
          "output_type": "stream",
          "text": [
            "Mounted at /content/drive\n"
          ]
        }
      ],
      "source": [
        "from google.colab import drive\n",
        "drive.mount('/content/drive')"
      ]
    },
    {
      "cell_type": "markdown",
      "metadata": {
        "id": "2TH2y5FDlqy7"
      },
      "source": [
        "# Import Libraries and Load Dataset\n",
        "## Now, we import required libraries\n",
        "*   To read the CSV data, you will need pandas.read_csv\n",
        "*   For plotting,use matpliot\n",
        "*   For splitting into train and test set use sklearn\n",
        "*   For deep learning layers use tendorflow and keras\n",
        "*   For maths operation use numpy\n"
      ]
    },
    {
      "cell_type": "code",
      "execution_count": null,
      "metadata": {
        "id": "PimxGgLFDwSg"
      },
      "outputs": [],
      "source": [
        "import seaborn as sns\n",
        "import numpy as np\n",
        "import pandas as pd\n",
        "import matplotlib.pyplot as plt\n",
        "from keras.models import Sequential\n",
        "from keras.layers import Dense\n",
        "from keras.datasets import mnist\n",
        "from sklearn.model_selection import train_test_split\n",
        "\n",
        "import matplotlib.pyplot as plt\n",
        "from tensorflow.keras.models import Sequential, Model\n",
        "from tensorflow.keras.layers import Dense, Input\n",
        "from tensorflow.keras.utils import to_categorical\n",
        "%matplotlib inline\n",
        "sns.set(style = 'white', context = 'notebook', palette = 'deep')\n",
        "np.random.seed(42)"
      ]
    },
    {
      "cell_type": "markdown",
      "metadata": {
        "id": "aBCpqNyemAgR"
      },
      "source": [
        "## To read the CSV data, you will need pandas.read_csv. It will read the data into the Pandas data frame."
      ]
    },
    {
      "cell_type": "code",
      "execution_count": null,
      "metadata": {
        "id": "nN4rgGSBD0yT"
      },
      "outputs": [],
      "source": [
        "train = pd.read_csv(\"/content/drive/My Drive/fashion-mnist_test.csv\")\n",
        "test = pd.read_csv(\"/content/drive/My Drive/fashion-mnist_train.csv\")"
      ]
    },
    {
      "cell_type": "markdown",
      "metadata": {
        "id": "rpUz9E5cmFyw"
      },
      "source": [
        "## Check how pixels look like in the data frame. train.head() will show the first five columns of the data frame."
      ]
    },
    {
      "cell_type": "code",
      "execution_count": null,
      "metadata": {
        "colab": {
          "base_uri": "https://localhost:8080/",
          "height": 255
        },
        "id": "0Xx_BqADD3ET",
        "outputId": "ccf2ea90-e64c-46c2-d54e-f665abf94187"
      },
      "outputs": [
        {
          "data": {
            "text/html": [
              "\n",
              "  <div id=\"df-cbcf80c9-1b81-4738-b417-a9cdcd5e011c\" class=\"colab-df-container\">\n",
              "    <div>\n",
              "<style scoped>\n",
              "    .dataframe tbody tr th:only-of-type {\n",
              "        vertical-align: middle;\n",
              "    }\n",
              "\n",
              "    .dataframe tbody tr th {\n",
              "        vertical-align: top;\n",
              "    }\n",
              "\n",
              "    .dataframe thead th {\n",
              "        text-align: right;\n",
              "    }\n",
              "</style>\n",
              "<table border=\"1\" class=\"dataframe\">\n",
              "  <thead>\n",
              "    <tr style=\"text-align: right;\">\n",
              "      <th></th>\n",
              "      <th>label</th>\n",
              "      <th>pixel1</th>\n",
              "      <th>pixel2</th>\n",
              "      <th>pixel3</th>\n",
              "      <th>pixel4</th>\n",
              "      <th>pixel5</th>\n",
              "      <th>pixel6</th>\n",
              "      <th>pixel7</th>\n",
              "      <th>pixel8</th>\n",
              "      <th>pixel9</th>\n",
              "      <th>...</th>\n",
              "      <th>pixel775</th>\n",
              "      <th>pixel776</th>\n",
              "      <th>pixel777</th>\n",
              "      <th>pixel778</th>\n",
              "      <th>pixel779</th>\n",
              "      <th>pixel780</th>\n",
              "      <th>pixel781</th>\n",
              "      <th>pixel782</th>\n",
              "      <th>pixel783</th>\n",
              "      <th>pixel784</th>\n",
              "    </tr>\n",
              "  </thead>\n",
              "  <tbody>\n",
              "    <tr>\n",
              "      <th>0</th>\n",
              "      <td>0</td>\n",
              "      <td>0</td>\n",
              "      <td>0</td>\n",
              "      <td>0</td>\n",
              "      <td>0</td>\n",
              "      <td>0</td>\n",
              "      <td>0</td>\n",
              "      <td>0</td>\n",
              "      <td>9</td>\n",
              "      <td>8</td>\n",
              "      <td>...</td>\n",
              "      <td>103</td>\n",
              "      <td>87</td>\n",
              "      <td>56</td>\n",
              "      <td>0</td>\n",
              "      <td>0</td>\n",
              "      <td>0</td>\n",
              "      <td>0</td>\n",
              "      <td>0</td>\n",
              "      <td>0</td>\n",
              "      <td>0</td>\n",
              "    </tr>\n",
              "    <tr>\n",
              "      <th>1</th>\n",
              "      <td>1</td>\n",
              "      <td>0</td>\n",
              "      <td>0</td>\n",
              "      <td>0</td>\n",
              "      <td>0</td>\n",
              "      <td>0</td>\n",
              "      <td>0</td>\n",
              "      <td>0</td>\n",
              "      <td>0</td>\n",
              "      <td>0</td>\n",
              "      <td>...</td>\n",
              "      <td>34</td>\n",
              "      <td>0</td>\n",
              "      <td>0</td>\n",
              "      <td>0</td>\n",
              "      <td>0</td>\n",
              "      <td>0</td>\n",
              "      <td>0</td>\n",
              "      <td>0</td>\n",
              "      <td>0</td>\n",
              "      <td>0</td>\n",
              "    </tr>\n",
              "    <tr>\n",
              "      <th>2</th>\n",
              "      <td>2</td>\n",
              "      <td>0</td>\n",
              "      <td>0</td>\n",
              "      <td>0</td>\n",
              "      <td>0</td>\n",
              "      <td>0</td>\n",
              "      <td>0</td>\n",
              "      <td>14</td>\n",
              "      <td>53</td>\n",
              "      <td>99</td>\n",
              "      <td>...</td>\n",
              "      <td>0</td>\n",
              "      <td>0</td>\n",
              "      <td>0</td>\n",
              "      <td>0</td>\n",
              "      <td>63</td>\n",
              "      <td>53</td>\n",
              "      <td>31</td>\n",
              "      <td>0</td>\n",
              "      <td>0</td>\n",
              "      <td>0</td>\n",
              "    </tr>\n",
              "    <tr>\n",
              "      <th>3</th>\n",
              "      <td>2</td>\n",
              "      <td>0</td>\n",
              "      <td>0</td>\n",
              "      <td>0</td>\n",
              "      <td>0</td>\n",
              "      <td>0</td>\n",
              "      <td>0</td>\n",
              "      <td>0</td>\n",
              "      <td>0</td>\n",
              "      <td>0</td>\n",
              "      <td>...</td>\n",
              "      <td>137</td>\n",
              "      <td>126</td>\n",
              "      <td>140</td>\n",
              "      <td>0</td>\n",
              "      <td>133</td>\n",
              "      <td>224</td>\n",
              "      <td>222</td>\n",
              "      <td>56</td>\n",
              "      <td>0</td>\n",
              "      <td>0</td>\n",
              "    </tr>\n",
              "    <tr>\n",
              "      <th>4</th>\n",
              "      <td>3</td>\n",
              "      <td>0</td>\n",
              "      <td>0</td>\n",
              "      <td>0</td>\n",
              "      <td>0</td>\n",
              "      <td>0</td>\n",
              "      <td>0</td>\n",
              "      <td>0</td>\n",
              "      <td>0</td>\n",
              "      <td>0</td>\n",
              "      <td>...</td>\n",
              "      <td>0</td>\n",
              "      <td>0</td>\n",
              "      <td>0</td>\n",
              "      <td>0</td>\n",
              "      <td>0</td>\n",
              "      <td>0</td>\n",
              "      <td>0</td>\n",
              "      <td>0</td>\n",
              "      <td>0</td>\n",
              "      <td>0</td>\n",
              "    </tr>\n",
              "  </tbody>\n",
              "</table>\n",
              "<p>5 rows × 785 columns</p>\n",
              "</div>\n",
              "    <div class=\"colab-df-buttons\">\n",
              "\n",
              "  <div class=\"colab-df-container\">\n",
              "    <button class=\"colab-df-convert\" onclick=\"convertToInteractive('df-cbcf80c9-1b81-4738-b417-a9cdcd5e011c')\"\n",
              "            title=\"Convert this dataframe to an interactive table.\"\n",
              "            style=\"display:none;\">\n",
              "\n",
              "  <svg xmlns=\"http://www.w3.org/2000/svg\" height=\"24px\" viewBox=\"0 -960 960 960\">\n",
              "    <path d=\"M120-120v-720h720v720H120Zm60-500h600v-160H180v160Zm220 220h160v-160H400v160Zm0 220h160v-160H400v160ZM180-400h160v-160H180v160Zm440 0h160v-160H620v160ZM180-180h160v-160H180v160Zm440 0h160v-160H620v160Z\"/>\n",
              "  </svg>\n",
              "    </button>\n",
              "\n",
              "  <style>\n",
              "    .colab-df-container {\n",
              "      display:flex;\n",
              "      gap: 12px;\n",
              "    }\n",
              "\n",
              "    .colab-df-convert {\n",
              "      background-color: #E8F0FE;\n",
              "      border: none;\n",
              "      border-radius: 50%;\n",
              "      cursor: pointer;\n",
              "      display: none;\n",
              "      fill: #1967D2;\n",
              "      height: 32px;\n",
              "      padding: 0 0 0 0;\n",
              "      width: 32px;\n",
              "    }\n",
              "\n",
              "    .colab-df-convert:hover {\n",
              "      background-color: #E2EBFA;\n",
              "      box-shadow: 0px 1px 2px rgba(60, 64, 67, 0.3), 0px 1px 3px 1px rgba(60, 64, 67, 0.15);\n",
              "      fill: #174EA6;\n",
              "    }\n",
              "\n",
              "    .colab-df-buttons div {\n",
              "      margin-bottom: 4px;\n",
              "    }\n",
              "\n",
              "    [theme=dark] .colab-df-convert {\n",
              "      background-color: #3B4455;\n",
              "      fill: #D2E3FC;\n",
              "    }\n",
              "\n",
              "    [theme=dark] .colab-df-convert:hover {\n",
              "      background-color: #434B5C;\n",
              "      box-shadow: 0px 1px 3px 1px rgba(0, 0, 0, 0.15);\n",
              "      filter: drop-shadow(0px 1px 2px rgba(0, 0, 0, 0.3));\n",
              "      fill: #FFFFFF;\n",
              "    }\n",
              "  </style>\n",
              "\n",
              "    <script>\n",
              "      const buttonEl =\n",
              "        document.querySelector('#df-cbcf80c9-1b81-4738-b417-a9cdcd5e011c button.colab-df-convert');\n",
              "      buttonEl.style.display =\n",
              "        google.colab.kernel.accessAllowed ? 'block' : 'none';\n",
              "\n",
              "      async function convertToInteractive(key) {\n",
              "        const element = document.querySelector('#df-cbcf80c9-1b81-4738-b417-a9cdcd5e011c');\n",
              "        const dataTable =\n",
              "          await google.colab.kernel.invokeFunction('convertToInteractive',\n",
              "                                                    [key], {});\n",
              "        if (!dataTable) return;\n",
              "\n",
              "        const docLinkHtml = 'Like what you see? Visit the ' +\n",
              "          '<a target=\"_blank\" href=https://colab.research.google.com/notebooks/data_table.ipynb>data table notebook</a>'\n",
              "          + ' to learn more about interactive tables.';\n",
              "        element.innerHTML = '';\n",
              "        dataTable['output_type'] = 'display_data';\n",
              "        await google.colab.output.renderOutput(dataTable, element);\n",
              "        const docLink = document.createElement('div');\n",
              "        docLink.innerHTML = docLinkHtml;\n",
              "        element.appendChild(docLink);\n",
              "      }\n",
              "    </script>\n",
              "  </div>\n",
              "\n",
              "\n",
              "<div id=\"df-e9398b46-4561-4d2f-be5a-68f227363f13\">\n",
              "  <button class=\"colab-df-quickchart\" onclick=\"quickchart('df-e9398b46-4561-4d2f-be5a-68f227363f13')\"\n",
              "            title=\"Suggest charts\"\n",
              "            style=\"display:none;\">\n",
              "\n",
              "<svg xmlns=\"http://www.w3.org/2000/svg\" height=\"24px\"viewBox=\"0 0 24 24\"\n",
              "     width=\"24px\">\n",
              "    <g>\n",
              "        <path d=\"M19 3H5c-1.1 0-2 .9-2 2v14c0 1.1.9 2 2 2h14c1.1 0 2-.9 2-2V5c0-1.1-.9-2-2-2zM9 17H7v-7h2v7zm4 0h-2V7h2v10zm4 0h-2v-4h2v4z\"/>\n",
              "    </g>\n",
              "</svg>\n",
              "  </button>\n",
              "\n",
              "<style>\n",
              "  .colab-df-quickchart {\n",
              "      --bg-color: #E8F0FE;\n",
              "      --fill-color: #1967D2;\n",
              "      --hover-bg-color: #E2EBFA;\n",
              "      --hover-fill-color: #174EA6;\n",
              "      --disabled-fill-color: #AAA;\n",
              "      --disabled-bg-color: #DDD;\n",
              "  }\n",
              "\n",
              "  [theme=dark] .colab-df-quickchart {\n",
              "      --bg-color: #3B4455;\n",
              "      --fill-color: #D2E3FC;\n",
              "      --hover-bg-color: #434B5C;\n",
              "      --hover-fill-color: #FFFFFF;\n",
              "      --disabled-bg-color: #3B4455;\n",
              "      --disabled-fill-color: #666;\n",
              "  }\n",
              "\n",
              "  .colab-df-quickchart {\n",
              "    background-color: var(--bg-color);\n",
              "    border: none;\n",
              "    border-radius: 50%;\n",
              "    cursor: pointer;\n",
              "    display: none;\n",
              "    fill: var(--fill-color);\n",
              "    height: 32px;\n",
              "    padding: 0;\n",
              "    width: 32px;\n",
              "  }\n",
              "\n",
              "  .colab-df-quickchart:hover {\n",
              "    background-color: var(--hover-bg-color);\n",
              "    box-shadow: 0 1px 2px rgba(60, 64, 67, 0.3), 0 1px 3px 1px rgba(60, 64, 67, 0.15);\n",
              "    fill: var(--button-hover-fill-color);\n",
              "  }\n",
              "\n",
              "  .colab-df-quickchart-complete:disabled,\n",
              "  .colab-df-quickchart-complete:disabled:hover {\n",
              "    background-color: var(--disabled-bg-color);\n",
              "    fill: var(--disabled-fill-color);\n",
              "    box-shadow: none;\n",
              "  }\n",
              "\n",
              "  .colab-df-spinner {\n",
              "    border: 2px solid var(--fill-color);\n",
              "    border-color: transparent;\n",
              "    border-bottom-color: var(--fill-color);\n",
              "    animation:\n",
              "      spin 1s steps(1) infinite;\n",
              "  }\n",
              "\n",
              "  @keyframes spin {\n",
              "    0% {\n",
              "      border-color: transparent;\n",
              "      border-bottom-color: var(--fill-color);\n",
              "      border-left-color: var(--fill-color);\n",
              "    }\n",
              "    20% {\n",
              "      border-color: transparent;\n",
              "      border-left-color: var(--fill-color);\n",
              "      border-top-color: var(--fill-color);\n",
              "    }\n",
              "    30% {\n",
              "      border-color: transparent;\n",
              "      border-left-color: var(--fill-color);\n",
              "      border-top-color: var(--fill-color);\n",
              "      border-right-color: var(--fill-color);\n",
              "    }\n",
              "    40% {\n",
              "      border-color: transparent;\n",
              "      border-right-color: var(--fill-color);\n",
              "      border-top-color: var(--fill-color);\n",
              "    }\n",
              "    60% {\n",
              "      border-color: transparent;\n",
              "      border-right-color: var(--fill-color);\n",
              "    }\n",
              "    80% {\n",
              "      border-color: transparent;\n",
              "      border-right-color: var(--fill-color);\n",
              "      border-bottom-color: var(--fill-color);\n",
              "    }\n",
              "    90% {\n",
              "      border-color: transparent;\n",
              "      border-bottom-color: var(--fill-color);\n",
              "    }\n",
              "  }\n",
              "</style>\n",
              "\n",
              "  <script>\n",
              "    async function quickchart(key) {\n",
              "      const quickchartButtonEl =\n",
              "        document.querySelector('#' + key + ' button');\n",
              "      quickchartButtonEl.disabled = true;  // To prevent multiple clicks.\n",
              "      quickchartButtonEl.classList.add('colab-df-spinner');\n",
              "      try {\n",
              "        const charts = await google.colab.kernel.invokeFunction(\n",
              "            'suggestCharts', [key], {});\n",
              "      } catch (error) {\n",
              "        console.error('Error during call to suggestCharts:', error);\n",
              "      }\n",
              "      quickchartButtonEl.classList.remove('colab-df-spinner');\n",
              "      quickchartButtonEl.classList.add('colab-df-quickchart-complete');\n",
              "    }\n",
              "    (() => {\n",
              "      let quickchartButtonEl =\n",
              "        document.querySelector('#df-e9398b46-4561-4d2f-be5a-68f227363f13 button');\n",
              "      quickchartButtonEl.style.display =\n",
              "        google.colab.kernel.accessAllowed ? 'block' : 'none';\n",
              "    })();\n",
              "  </script>\n",
              "</div>\n",
              "    </div>\n",
              "  </div>\n"
            ],
            "text/plain": [
              "   label  pixel1  pixel2  pixel3  pixel4  pixel5  pixel6  pixel7  pixel8  \\\n",
              "0      0       0       0       0       0       0       0       0       9   \n",
              "1      1       0       0       0       0       0       0       0       0   \n",
              "2      2       0       0       0       0       0       0      14      53   \n",
              "3      2       0       0       0       0       0       0       0       0   \n",
              "4      3       0       0       0       0       0       0       0       0   \n",
              "\n",
              "   pixel9  ...  pixel775  pixel776  pixel777  pixel778  pixel779  pixel780  \\\n",
              "0       8  ...       103        87        56         0         0         0   \n",
              "1       0  ...        34         0         0         0         0         0   \n",
              "2      99  ...         0         0         0         0        63        53   \n",
              "3       0  ...       137       126       140         0       133       224   \n",
              "4       0  ...         0         0         0         0         0         0   \n",
              "\n",
              "   pixel781  pixel782  pixel783  pixel784  \n",
              "0         0         0         0         0  \n",
              "1         0         0         0         0  \n",
              "2        31         0         0         0  \n",
              "3       222        56         0         0  \n",
              "4         0         0         0         0  \n",
              "\n",
              "[5 rows x 785 columns]"
            ]
          },
          "execution_count": 22,
          "metadata": {},
          "output_type": "execute_result"
        }
      ],
      "source": [
        "train.head()"
      ]
    },
    {
      "cell_type": "code",
      "execution_count": null,
      "metadata": {
        "colab": {
          "base_uri": "https://localhost:8080/"
        },
        "id": "pVRwvU8knkmj",
        "outputId": "fc3e75b8-66a8-4bce-c0e3-827cbc48d384"
      },
      "outputs": [
        {
          "data": {
            "text/plain": [
              "label       0\n",
              "pixel1      0\n",
              "pixel2      0\n",
              "pixel3      0\n",
              "pixel4      0\n",
              "           ..\n",
              "pixel780    0\n",
              "pixel781    0\n",
              "pixel782    0\n",
              "pixel783    0\n",
              "pixel784    0\n",
              "Length: 785, dtype: int64"
            ]
          },
          "execution_count": 23,
          "metadata": {},
          "output_type": "execute_result"
        }
      ],
      "source": [
        "#check for null or missing values in column list\n",
        "train.isnull().sum()"
      ]
    },
    {
      "cell_type": "markdown",
      "metadata": {
        "id": "T1Qr_A4dnMER"
      },
      "source": [
        "## Here we can see that our dataset is onpoint. This is rare as it has no missing vales\n",
        "\n"
      ]
    },
    {
      "cell_type": "code",
      "execution_count": null,
      "metadata": {
        "colab": {
          "base_uri": "https://localhost:8080/"
        },
        "id": "jUi3txx-mZjK",
        "outputId": "f0619138-fdab-48df-cd8b-89904419be63"
      },
      "outputs": [
        {
          "data": {
            "text/plain": [
              "(10000, 785)"
            ]
          },
          "execution_count": 24,
          "metadata": {},
          "output_type": "execute_result"
        }
      ],
      "source": [
        "train.shape#So there are 785 total pixels present in the data of size 28x28. A black and white image is in a 2D array form."
      ]
    },
    {
      "cell_type": "markdown",
      "metadata": {
        "id": "CFbq8fUhmJlJ"
      },
      "source": [
        "# Preparing the Image Data\n",
        "The data contains black and white images with unsigned integers of the range 0 to 255.\n",
        "\n",
        "Here there is a need for scaling the image. Normalize the pixel values by rescaling them to the range 0-1. The first step is to convert the data type from the data frame and series to NumPy ndarray."
      ]
    },
    {
      "cell_type": "code",
      "execution_count": null,
      "metadata": {
        "colab": {
          "base_uri": "https://localhost:8080/"
        },
        "id": "sKVSUDOWD-is",
        "outputId": "38a1339e-6c15-4194-fe79-79690cf06449"
      },
      "outputs": [
        {
          "name": "stdout",
          "output_type": "stream",
          "text": [
            "<class 'pandas.core.frame.DataFrame'>\n",
            "<class 'pandas.core.series.Series'>\n"
          ]
        }
      ],
      "source": [
        "y_train = train[\"label\"]\n",
        "x_train = train.drop(labels = [\"label\"], axis = 1)\n",
        "\n",
        "print(type(x_train))\n",
        "print(type(y_train))"
      ]
    },
    {
      "cell_type": "code",
      "execution_count": null,
      "metadata": {
        "id": "6Km8RWxrEoiN"
      },
      "outputs": [],
      "source": [
        "x_train = x_train.astype('float')/255."
      ]
    },
    {
      "cell_type": "code",
      "execution_count": null,
      "metadata": {
        "colab": {
          "base_uri": "https://localhost:8080/"
        },
        "id": "9i5PzW0CEkLl",
        "outputId": "8738f8d2-6a8a-4d2a-85a8-27538f3b20e3"
      },
      "outputs": [
        {
          "name": "stdout",
          "output_type": "stream",
          "text": [
            "<class 'numpy.ndarray'>\n",
            "<class 'numpy.ndarray'>\n"
          ]
        }
      ],
      "source": [
        "x_train = x_train.to_numpy()\n",
        "y_train = y_train.to_numpy()\n",
        "\n",
        "print(type(x_train))\n",
        "print(type(y_train))"
      ]
    },
    {
      "cell_type": "markdown",
      "metadata": {
        "id": "E5pyLn0toPN8"
      },
      "source": [
        "# Splitting the data into trainng set and testing set\n",
        "We split the dataset into 20/80\n",
        "Also we use stratify to maintain the original distribution of Dependent variable as of original set"
      ]
    },
    {
      "cell_type": "code",
      "execution_count": null,
      "metadata": {
        "id": "8hzPWkLbEtiT"
      },
      "outputs": [],
      "source": [
        "x_train, x_val, y_train, y_val = train_test_split(x_train, y_train, test_size = 0.2, random_state = 42)"
      ]
    },
    {
      "cell_type": "code",
      "execution_count": null,
      "metadata": {
        "colab": {
          "base_uri": "https://localhost:8080/"
        },
        "id": "bmY8HowkEvPz",
        "outputId": "5d062fd8-4761-4382-c849-100b4bc70c93"
      },
      "outputs": [
        {
          "name": "stdout",
          "output_type": "stream",
          "text": [
            "8000\n",
            "2000\n"
          ]
        }
      ],
      "source": [
        "x_train_size = len(x_train)\n",
        "x_val_size = len(x_val)\n",
        "#num_pixels = x_train.shape[1] * x_train.shape[2]\n",
        "print(x_train_size)\n",
        "print(x_val_size)"
      ]
    },
    {
      "cell_type": "markdown",
      "metadata": {
        "id": "_D3M3H4LoZFZ"
      },
      "source": [
        "# Adding Noise: Denoising Autoencoder\n",
        "* To develop a generalized model, a bit of noise is added to the input data to make it corrupt. The uncorrupted data is maintained, and it acts as the output. Here the model cannot memorize the training data and maps out the result as input. Output targets are different. This forces the model to map the input data to a lower-dimension manifold (a concentration point for input data).\n",
        "\n",
        "\n",
        "* Add synthetic noise by applying random data on the image data. You will need to normalize that new form of random image too. To achieve that, multiply the random noise by 0.9 and clip the range between 0 to 1. You may also use the Gaussian noise matrix and notice the difference."
      ]
    },
    {
      "cell_type": "code",
      "execution_count": null,
      "metadata": {
        "id": "QzpNxoUDEzB6"
      },
      "outputs": [],
      "source": [
        "#method-1\n",
        "x_train_noisy = x_train + np.random.rand(x_train_size, 784) * 0.9\n",
        "x_val_noisy = x_val + np.random.rand(x_val_size, 784) * 0.9\n",
        "\n",
        "#method-2: Adding Gaussian Noise\n",
        "# x_train_noisy = x_train + 0.75 * np.random.normal(loc=0.0, scale=1.0, size=x_train.shape)\n",
        "# x_val_noisy = x_val + 0.75 * np.random.normal(loc=0.0, scale=1.0, size=x_val.shape)\n",
        "\n",
        "x_train_noisy = np.clip(x_train_noisy, 0., 1.)\n",
        "x_val_noisy = np.clip(x_val_noisy, 0., 1.)\n"
      ]
    },
    {
      "cell_type": "markdown",
      "metadata": {
        "id": "Qb87MfHjoyUD"
      },
      "source": [
        "## Only for the visualization purpose, the image is reshaped from 1D array to 2D array, 784 to (28,28)."
      ]
    },
    {
      "cell_type": "code",
      "execution_count": null,
      "metadata": {
        "colab": {
          "base_uri": "https://localhost:8080/",
          "height": 128
        },
        "id": "f23iqdAxOIgI",
        "outputId": "c003d13a-0755-4339-95b9-2f5e66acb496"
      },
      "outputs": [
        {
          "data": {
            "image/png": "[encoded data removed]",
            "text/plain": [
              "<Figure size 2000x200 with 10 Axes>"
            ]
          },
          "metadata": {},
          "output_type": "display_data"
        }
      ],
      "source": [
        "def plot(x, p , labels = False):\n",
        "  plt.figure(figsize = (20,2))\n",
        "  for i in range(10):\n",
        "    plt.subplot(1, 10, i+1)\n",
        "    plt.imshow(x[i].reshape(28,28), cmap = 'binary')\n",
        "    plt.xticks([])\n",
        "    plt.yticks([])\n",
        "  if labels:\n",
        "    plt.xlabel(np.argmax(p[i]))\n",
        "  plt.show()\n",
        "  return\n",
        "plot(x_train, None)"
      ]
    },
    {
      "cell_type": "code",
      "execution_count": null,
      "metadata": {
        "colab": {
          "base_uri": "https://localhost:8080/",
          "height": 128
        },
        "id": "h3UGgy3BOd-o",
        "outputId": "b59e18fb-8a86-4b50-e7e6-0d71c5545494"
      },
      "outputs": [
        {
          "data": {
            "image/png": "[encoded data removed]",
            "text/plain": [
              "<Figure size 2000x200 with 10 Axes>"
            ]
          },
          "metadata": {},
          "output_type": "display_data"
        }
      ],
      "source": [
        "plot(x_train_noisy,None)"
      ]
    },
    {
      "cell_type": "markdown",
      "metadata": {
        "id": "gj3h0Bn6o4DS"
      },
      "source": [
        "The input size is of a 1D array. Notice that Dense layer 64 produces the bottleneck. The final layer at the decoder end gives the output of 784 units. The sigmoid function gives out the value between 0 and 1. This layer decides whether to consider the noise pixel or not."
      ]
    },
    {
      "cell_type": "code",
      "execution_count": null,
      "metadata": {
        "colab": {
          "base_uri": "https://localhost:8080/"
        },
        "id": "PywjvpB_OhUn",
        "outputId": "651224a4-35a4-44ed-ff5a-577e6345e6b4"
      },
      "outputs": [
        {
          "name": "stdout",
          "output_type": "stream",
          "text": [
            "Model: \"model_1\"\n",
            "_________________________________________________________________\n",
            " Layer (type)                Output Shape              Param #   \n",
            "=================================================================\n",
            " input_2 (InputLayer)        [(None, 784)]             0         \n",
            "                                                                 \n",
            " dense_7 (Dense)             (None, 512)               401920    \n",
            "                                                                 \n",
            " dense_8 (Dense)             (None, 512)               262656    \n",
            "                                                                 \n",
            " dense_9 (Dense)             (None, 256)               131328    \n",
            "                                                                 \n",
            " dense_10 (Dense)            (None, 256)               65792     \n",
            "                                                                 \n",
            " dense_11 (Dense)            (None, 64)                16448     \n",
            "                                                                 \n",
            " dense_12 (Dense)            (None, 512)               33280     \n",
            "                                                                 \n",
            " dense_13 (Dense)            (None, 784)               402192    \n",
            "                                                                 \n",
            "=================================================================\n",
            "Total params: 1313616 (5.01 MB)\n",
            "Trainable params: 1313616 (5.01 MB)\n",
            "Non-trainable params: 0 (0.00 Byte)\n",
            "_________________________________________________________________\n"
          ]
        }
      ],
      "source": [
        "input_image = Input(shape = (784, ) )\n",
        "\n",
        "encoded = Dense(512, activation = 'relu')(input_image)\n",
        "encoded = Dense(512, activation = 'relu')(encoded)\n",
        "encoded = Dense(256, activation = 'relu')(encoded)\n",
        "encoded = Dense(256, activation = 'relu')(encoded)\n",
        "encoded = Dense(64, activation = 'relu')(encoded)\n",
        "\n",
        "decoded = Dense(512, activation = 'relu')(encoded)\n",
        "decoded = Dense(784, activation = 'sigmoid')(decoded)\n",
        "\n",
        "autoencoder = Model(input_image, decoded)\n",
        "autoencoder.compile(loss= 'binary_crossentropy' , optimizer = 'adam')\n",
        "autoencoder.summary()\n",
        "\n"
      ]
    },
    {
      "cell_type": "code",
      "execution_count": null,
      "metadata": {
        "colab": {
          "background_save": true
        },
        "id": "cC79itypX3Zy",
        "outputId": "a5567691-f932-43df-cd18-b26d36f10a04"
      },
      "outputs": [
        {
          "name": "stdout",
          "output_type": "stream",
          "text": [
            "Model: \"sequential_2\"\n",
            "_________________________________________________________________\n",
            " Layer (type)                Output Shape              Param #   \n",
            "=================================================================\n",
            " dense_14 (Dense)            (None, 500)               392500    \n",
            "                                                                 \n",
            " dense_15 (Dense)            (None, 300)               150300    \n",
            "                                                                 \n",
            " dense_16 (Dense)            (None, 100)               30100     \n",
            "                                                                 \n",
            " dense_17 (Dense)            (None, 300)               30300     \n",
            "                                                                 \n",
            " dense_18 (Dense)            (None, 500)               150500    \n",
            "                                                                 \n",
            " dense_19 (Dense)            (None, 784)               392784    \n",
            "                                                                 \n",
            "=================================================================\n",
            "Total params: 1146484 (4.37 MB)\n",
            "Trainable params: 1146484 (4.37 MB)\n",
            "Non-trainable params: 0 (0.00 Byte)\n",
            "_________________________________________________________________\n"
          ]
        }
      ],
      "source": [
        "model = Sequential()\n",
        "model.add(Dense(500, input_dim=784, activation='relu'))\n",
        "model.add(Dense(300, activation='relu'))\n",
        "model.add(Dense(100, activation='relu'))\n",
        "model.add(Dense(300, activation='relu'))\n",
        "model.add(Dense(500, activation='relu'))\n",
        "model.add(Dense(784, activation='sigmoid'))\n",
        "model.compile(loss='mean_squared_error', optimizer='adam')\n",
        "model.summary()"
      ]
    },
    {
      "cell_type": "code",
      "execution_count": null,
      "metadata": {
        "colab": {
          "background_save": true,
          "base_uri": "https://localhost:8080/"
        },
        "id": "meGfX_p1Ol10",
        "outputId": "4bf5c3e1-c3cd-4534-e136-a6810387c623"
      },
      "outputs": [
        {
          "name": "stdout",
          "output_type": "stream",
          "text": [
            "Epoch 1/100\n",
            "50/50 [==============================] - 5s 71ms/step - loss: 0.4799 - val_loss: 0.4057\n",
            "Epoch 2/100\n",
            "50/50 [==============================] - 4s 70ms/step - loss: 0.3805 - val_loss: 0.3672\n",
            "Epoch 3/100\n",
            "50/50 [==============================] - 2s 39ms/step - loss: 0.3584 - val_loss: 0.3502\n",
            "Epoch 4/100\n",
            "50/50 [==============================] - 2s 40ms/step - loss: 0.3439 - val_loss: 0.3381\n",
            "Epoch 5/100\n",
            "50/50 [==============================] - 2s 39ms/step - loss: 0.3352 - val_loss: 0.3351\n",
            "Epoch 6/100\n",
            "50/50 [==============================] - 2s 39ms/step - loss: 0.3270 - val_loss: 0.3277\n",
            "Epoch 7/100\n",
            "50/50 [==============================] - 2s 43ms/step - loss: 0.3240 - val_loss: 0.3237\n",
            "Epoch 8/100\n",
            "50/50 [==============================] - 4s 86ms/step - loss: 0.3225 - val_loss: 0.3205\n",
            "Epoch 9/100\n",
            "50/50 [==============================] - 3s 67ms/step - loss: 0.3176 - val_loss: 0.3195\n",
            "Epoch 10/100\n",
            "50/50 [==============================] - 2s 39ms/step - loss: 0.3168 - val_loss: 0.3177\n",
            "Epoch 11/100\n",
            "50/50 [==============================] - 2s 38ms/step - loss: 0.3153 - val_loss: 0.3185\n",
            "Epoch 12/100\n",
            "50/50 [==============================] - 2s 39ms/step - loss: 0.3133 - val_loss: 0.3144\n",
            "Epoch 13/100\n",
            "50/50 [==============================] - 3s 51ms/step - loss: 0.3111 - val_loss: 0.3134\n",
            "Epoch 14/100\n",
            "50/50 [==============================] - 3s 64ms/step - loss: 0.3093 - val_loss: 0.3163\n",
            "Epoch 15/100\n",
            "50/50 [==============================] - 2s 41ms/step - loss: 0.3085 - val_loss: 0.3109\n",
            "Epoch 16/100\n",
            "50/50 [==============================] - 2s 38ms/step - loss: 0.3064 - val_loss: 0.3103\n",
            "Epoch 17/100\n",
            "50/50 [==============================] - 2s 38ms/step - loss: 0.3059 - val_loss: 0.3084\n",
            "Epoch 18/100\n",
            "50/50 [==============================] - 2s 38ms/step - loss: 0.3049 - val_loss: 0.3077\n",
            "Epoch 19/100\n",
            "50/50 [==============================] - 2s 38ms/step - loss: 0.3044 - val_loss: 0.3088\n",
            "Epoch 20/100\n",
            "50/50 [==============================] - 3s 54ms/step - loss: 0.3037 - val_loss: 0.3080\n",
            "Epoch 21/100\n",
            "50/50 [==============================] - 3s 63ms/step - loss: 0.3020 - val_loss: 0.3059\n",
            "Epoch 22/100\n",
            "50/50 [==============================] - 2s 38ms/step - loss: 0.3007 - val_loss: 0.3059\n",
            "Epoch 23/100\n",
            "50/50 [==============================] - 2s 39ms/step - loss: 0.3007 - val_loss: 0.3059\n",
            "Epoch 24/100\n",
            "50/50 [==============================] - 2s 39ms/step - loss: 0.3009 - val_loss: 0.3050\n",
            "Epoch 25/100\n",
            "50/50 [==============================] - 2s 39ms/step - loss: 0.2997 - val_loss: 0.3058\n",
            "Epoch 26/100\n",
            "50/50 [==============================] - 2s 39ms/step - loss: 0.2985 - val_loss: 0.3039\n",
            "Epoch 27/100\n",
            "50/50 [==============================] - 3s 61ms/step - loss: 0.2983 - val_loss: 0.3052\n",
            "Epoch 28/100\n",
            "50/50 [==============================] - 3s 57ms/step - loss: 0.2973 - val_loss: 0.3035\n",
            "Epoch 29/100\n",
            "50/50 [==============================] - 2s 38ms/step - loss: 0.2968 - val_loss: 0.3044\n",
            "Epoch 30/100\n",
            "50/50 [==============================] - 2s 39ms/step - loss: 0.2961 - val_loss: 0.3036\n",
            "Epoch 31/100\n",
            "50/50 [==============================] - 2s 48ms/step - loss: 0.2957 - val_loss: 0.3026\n",
            "Epoch 32/100\n",
            "50/50 [==============================] - 3s 52ms/step - loss: 0.2955 - val_loss: 0.3031\n",
            "Epoch 33/100\n",
            "50/50 [==============================] - 5s 109ms/step - loss: 0.2945 - val_loss: 0.3021\n",
            "Epoch 34/100\n",
            "50/50 [==============================] - 4s 77ms/step - loss: 0.2938 - val_loss: 0.3018\n",
            "Epoch 35/100\n",
            "50/50 [==============================] - 4s 76ms/step - loss: 0.2940 - val_loss: 0.3014\n",
            "Epoch 36/100\n",
            "50/50 [==============================] - 5s 101ms/step - loss: 0.2929 - val_loss: 0.3018\n",
            "Epoch 37/100\n",
            "50/50 [==============================] - 3s 62ms/step - loss: 0.2926 - val_loss: 0.3011\n",
            "Epoch 38/100\n",
            "50/50 [==============================] - 2s 37ms/step - loss: 0.2924 - val_loss: 0.3013\n",
            "Epoch 39/100\n",
            "50/50 [==============================] - 2s 37ms/step - loss: 0.2922 - val_loss: 0.3011\n",
            "Epoch 40/100\n",
            "50/50 [==============================] - 2s 37ms/step - loss: 0.2918 - val_loss: 0.3002\n",
            "Epoch 41/100\n",
            "50/50 [==============================] - 2s 37ms/step - loss: 0.2915 - val_loss: 0.3004\n",
            "Epoch 42/100\n",
            "50/50 [==============================] - 2s 37ms/step - loss: 0.2906 - val_loss: 0.3003\n",
            "Epoch 43/100\n",
            "50/50 [==============================] - 3s 56ms/step - loss: 0.2901 - val_loss: 0.3007\n",
            "Epoch 44/100\n",
            "50/50 [==============================] - 3s 60ms/step - loss: 0.2902 - val_loss: 0.2996\n",
            "Epoch 45/100\n",
            "50/50 [==============================] - 2s 37ms/step - loss: 0.2901 - val_loss: 0.3005\n",
            "Epoch 46/100\n",
            "50/50 [==============================] - 2s 37ms/step - loss: 0.2891 - val_loss: 0.3002\n",
            "Epoch 47/100\n",
            "50/50 [==============================] - 2s 37ms/step - loss: 0.2887 - val_loss: 0.2997\n",
            "Epoch 48/100\n",
            "50/50 [==============================] - 2s 37ms/step - loss: 0.2880 - val_loss: 0.2988\n",
            "Epoch 49/100\n",
            "50/50 [==============================] - 2s 37ms/step - loss: 0.2886 - val_loss: 0.3012\n",
            "Epoch 50/100\n",
            "50/50 [==============================] - 3s 57ms/step - loss: 0.2882 - val_loss: 0.2981\n",
            "Epoch 51/100\n",
            "50/50 [==============================] - 3s 58ms/step - loss: 0.2869 - val_loss: 0.2986\n",
            "Epoch 52/100\n",
            "50/50 [==============================] - 2s 37ms/step - loss: 0.2867 - val_loss: 0.2986\n",
            "Epoch 53/100\n",
            "50/50 [==============================] - 2s 37ms/step - loss: 0.2868 - val_loss: 0.3004\n",
            "Epoch 54/100\n",
            "50/50 [==============================] - 2s 37ms/step - loss: 0.2866 - val_loss: 0.2982\n",
            "Epoch 55/100\n",
            "50/50 [==============================] - 2s 37ms/step - loss: 0.2858 - val_loss: 0.2977\n",
            "Epoch 56/100\n",
            "50/50 [==============================] - 2s 37ms/step - loss: 0.2861 - val_loss: 0.2974\n",
            "Epoch 57/100\n",
            "50/50 [==============================] - 3s 55ms/step - loss: 0.2862 - val_loss: 0.2989\n",
            "Epoch 58/100\n",
            "50/50 [==============================] - 3s 59ms/step - loss: 0.2857 - val_loss: 0.2980\n",
            "Epoch 59/100\n",
            "50/50 [==============================] - 2s 37ms/step - loss: 0.2854 - val_loss: 0.2976\n",
            "Epoch 60/100\n",
            "50/50 [==============================] - 2s 37ms/step - loss: 0.2841 - val_loss: 0.2972\n",
            "Epoch 61/100\n",
            "50/50 [==============================] - 2s 37ms/step - loss: 0.2850 - val_loss: 0.2978\n",
            "Epoch 62/100\n",
            "50/50 [==============================] - 2s 37ms/step - loss: 0.2844 - val_loss: 0.2975\n",
            "Epoch 63/100\n",
            "50/50 [==============================] - 2s 37ms/step - loss: 0.2841 - val_loss: 0.2974\n",
            "Epoch 64/100\n",
            "50/50 [==============================] - 3s 53ms/step - loss: 0.2835 - val_loss: 0.2974\n",
            "Epoch 65/100\n",
            "50/50 [==============================] - 3s 61ms/step - loss: 0.2836 - val_loss: 0.2980\n",
            "Epoch 66/100\n",
            "50/50 [==============================] - 2s 37ms/step - loss: 0.2836 - val_loss: 0.2978\n",
            "Epoch 67/100\n",
            "50/50 [==============================] - 2s 37ms/step - loss: 0.2832 - val_loss: 0.2973\n",
            "Epoch 68/100\n",
            "50/50 [==============================] - 2s 37ms/step - loss: 0.2831 - val_loss: 0.2964\n",
            "Epoch 69/100\n",
            "50/50 [==============================] - 2s 37ms/step - loss: 0.2820 - val_loss: 0.2967\n",
            "Epoch 70/100\n",
            "50/50 [==============================] - 2s 37ms/step - loss: 0.2820 - val_loss: 0.2968\n",
            "Epoch 71/100\n",
            "50/50 [==============================] - 3s 50ms/step - loss: 0.2815 - val_loss: 0.2961\n",
            "Epoch 72/100\n",
            "50/50 [==============================] - 3s 60ms/step - loss: 0.2814 - val_loss: 0.2964\n",
            "Epoch 73/100\n",
            "50/50 [==============================] - 2s 38ms/step - loss: 0.2822 - val_loss: 0.2969\n",
            "Epoch 74/100\n",
            "50/50 [==============================] - 2s 37ms/step - loss: 0.2815 - val_loss: 0.2969\n",
            "Epoch 75/100\n",
            "50/50 [==============================] - 2s 38ms/step - loss: 0.2815 - val_loss: 0.2954\n",
            "Epoch 76/100\n",
            "50/50 [==============================] - 2s 36ms/step - loss: 0.2803 - val_loss: 0.2955\n",
            "Epoch 77/100\n",
            "50/50 [==============================] - 2s 35ms/step - loss: 0.2803 - val_loss: 0.2959\n",
            "Epoch 78/100\n",
            "50/50 [==============================] - 2s 46ms/step - loss: 0.2801 - val_loss: 0.2959\n",
            "Epoch 79/100\n",
            "50/50 [==============================] - 3s 55ms/step - loss: 0.2797 - val_loss: 0.2973\n",
            "Epoch 80/100\n",
            "50/50 [==============================] - 2s 36ms/step - loss: 0.2805 - val_loss: 0.2964\n",
            "Epoch 81/100\n",
            "50/50 [==============================] - 2s 35ms/step - loss: 0.2801 - val_loss: 0.2970\n",
            "Epoch 82/100\n",
            "50/50 [==============================] - 2s 36ms/step - loss: 0.2801 - val_loss: 0.2961\n",
            "Epoch 83/100\n",
            "50/50 [==============================] - 2s 36ms/step - loss: 0.2793 - val_loss: 0.2954\n",
            "Epoch 84/100\n",
            "50/50 [==============================] - 2s 36ms/step - loss: 0.2798 - val_loss: 0.2958\n",
            "Epoch 85/100\n",
            "50/50 [==============================] - 3s 50ms/step - loss: 0.2793 - val_loss: 0.2960\n",
            "Epoch 86/100\n",
            "50/50 [==============================] - 3s 50ms/step - loss: 0.2787 - val_loss: 0.2959\n",
            "Epoch 87/100\n",
            "50/50 [==============================] - 2s 36ms/step - loss: 0.2781 - val_loss: 0.2954\n",
            "Epoch 88/100\n",
            "50/50 [==============================] - 2s 35ms/step - loss: 0.2780 - val_loss: 0.2954\n",
            "Epoch 89/100\n",
            "50/50 [==============================] - 2s 36ms/step - loss: 0.2783 - val_loss: 0.2968\n",
            "Epoch 90/100\n",
            "50/50 [==============================] - 2s 35ms/step - loss: 0.2782 - val_loss: 0.2959\n",
            "Epoch 91/100\n",
            "50/50 [==============================] - 2s 36ms/step - loss: 0.2780 - val_loss: 0.2970\n",
            "Epoch 92/100\n",
            "50/50 [==============================] - 3s 56ms/step - loss: 0.2781 - val_loss: 0.2954\n",
            "Epoch 93/100\n",
            "50/50 [==============================] - 2s 44ms/step - loss: 0.2776 - val_loss: 0.2961\n",
            "Epoch 94/100\n",
            "50/50 [==============================] - 2s 36ms/step - loss: 0.2774 - val_loss: 0.2960\n",
            "Epoch 95/100\n",
            "50/50 [==============================] - 2s 35ms/step - loss: 0.2776 - val_loss: 0.2962\n",
            "Epoch 96/100\n",
            "50/50 [==============================] - 2s 35ms/step - loss: 0.2773 - val_loss: 0.2964\n",
            "Epoch 97/100\n",
            "50/50 [==============================] - 2s 36ms/step - loss: 0.2769 - val_loss: 0.2950\n",
            "Epoch 98/100\n",
            "50/50 [==============================] - 2s 35ms/step - loss: 0.2764 - val_loss: 0.2948\n",
            "Epoch 99/100\n",
            "50/50 [==============================] - 3s 59ms/step - loss: 0.2764 - val_loss: 0.2952\n",
            "Epoch 100/100\n",
            "50/50 [==============================] - 2s 41ms/step - loss: 0.2762 - val_loss: 0.2961\n"
          ]
        }
      ],
      "source": [
        "import tensorflow as tf\n",
        "history = autoencoder.fit(x_train_noisy, x_train, epochs=100, batch_size=128, shuffle = True, validation_split=0.2,)"
      ]
    },
    {
      "cell_type": "markdown",
      "metadata": {
        "id": "XYV07MpLwHS0"
      },
      "source": [
        "# Producing a Denoised Image\n",
        "Below you can see how well denoised images were produced from noisy ones present in x_val. There are three outputs: original test image, noisy test image, and denoised test image form autoencoders."
      ]
    },
    {
      "cell_type": "code",
      "execution_count": null,
      "metadata": {
        "colab": {
          "base_uri": "https://localhost:8080/"
        },
        "id": "YnhZ9Y-TP8bw",
        "outputId": "5f7b386f-84be-45fa-db0a-f64bd1745a4e"
      },
      "outputs": [
        {
          "name": "stdout",
          "output_type": "stream",
          "text": [
            "63/63 [==============================] - 0s 5ms/step\n"
          ]
        }
      ],
      "source": [
        "preds = autoencoder.predict(x_val_noisy)"
      ]
    },
    {
      "cell_type": "code",
      "execution_count": null,
      "metadata": {
        "colab": {
          "base_uri": "https://localhost:8080/",
          "height": 142
        },
        "id": "GhEegNS2P_yS",
        "outputId": "a00abcbf-46b8-4882-9905-05dbc7fcf953"
      },
      "outputs": [
        {
          "name": "stdout",
          "output_type": "stream",
          "text": [
            "Test Image\n"
          ]
        },
        {
          "data": {
            "image/png": "[encoded data removed]",
            "text/plain": [
              "<Figure size 1440x144 with 10 Axes>"
            ]
          },
          "metadata": {},
          "output_type": "display_data"
        }
      ],
      "source": [
        "print(\"Test Image\")\n",
        "plot(x_val, None)"
      ]
    },
    {
      "cell_type": "code",
      "execution_count": null,
      "metadata": {
        "colab": {
          "base_uri": "https://localhost:8080/",
          "height": 142
        },
        "id": "BPQqSx-RQICg",
        "outputId": "f31b58a5-a5be-40d7-cd28-76ec3a1d87d6"
      },
      "outputs": [
        {
          "name": "stdout",
          "output_type": "stream",
          "text": [
            "Noisy Image\n"
          ]
        },
        {
          "data": {
            "image/png": "[encoded data removed]",
            "text/plain": [
              "<Figure size 1440x144 with 10 Axes>"
            ]
          },
          "metadata": {},
          "output_type": "display_data"
        }
      ],
      "source": [
        "print(\"Noisy Image\")\n",
        "plot(x_val_noisy, None)"
      ]
    },
    {
      "cell_type": "code",
      "execution_count": null,
      "metadata": {
        "colab": {
          "base_uri": "https://localhost:8080/",
          "height": 142
        },
        "id": "lmijfTrNQLnt",
        "outputId": "8fcb9407-6ba3-40fb-eb57-6ddf4581a858"
      },
      "outputs": [
        {
          "name": "stdout",
          "output_type": "stream",
          "text": [
            "Denoised Image\n"
          ]
        },
        {
          "data": {
            "image/png": "[encoded data removed]",
            "text/plain": [
              "<Figure size 1440x144 with 10 Axes>"
            ]
          },
          "metadata": {},
          "output_type": "display_data"
        }
      ],
      "source": [
        "print(\"Denoised Image\")\n",
        "plot(preds, None)"
      ]
    },
    {
      "cell_type": "code",
      "execution_count": null,
      "metadata": {
        "id": "XINeTr6JQO9z"
      },
      "outputs": [],
      "source": [
        "def plot_loss(history, x = 'loss', y = 'val_loss'):\n",
        "  fig, ax = plt.subplots( figsize=(20,10))\n",
        "  ax.plot(history.history[x])\n",
        "  ax.plot(history.history[y])\n",
        "  plt.title('Model Loss')\n",
        "  plt.ylabel(y)\n",
        "  plt.xlabel(x)\n",
        "  plt.legend(['Train', 'Val'], loc='upper left')\n",
        "  ax.grid(color='black')\n",
        "  plt.show()"
      ]
    },
    {
      "cell_type": "markdown",
      "metadata": {
        "id": "2MoxiJdLwtck"
      },
      "source": [
        "## Plotting the loss"
      ]
    },
    {
      "cell_type": "code",
      "execution_count": null,
      "metadata": {
        "colab": {
          "base_uri": "https://localhost:8080/",
          "height": 627
        },
        "id": "DudeBei3QVbp",
        "outputId": "978d52c4-cf50-47ae-c833-7564d96e0c57"
      },
      "outputs": [
        {
          "data": {
            "image/png": "[encoded data removed]",
            "text/plain": [
              "<Figure size 1440x720 with 1 Axes>"
            ]
          },
          "metadata": {},
          "output_type": "display_data"
        }
      ],
      "source": [
        "plot_loss(history)"
      ]
    },
    {
      "cell_type": "markdown",
      "metadata": {
        "id": "jUa95X-rwS78"
      },
      "source": [
        "# Conclusion\n",
        "This model works good upto certain point,but eventually it showing overfitting isuue\n",
        "So,there is still scope for improvement\n",
        "we can change the hyperparameters and observe how model works\n"
      ]
    }
  ],
  "metadata": {
    "colab": {
      "provenance": []
    },
    "kernelspec": {
      "display_name": "Python 3",
      "name": "python3"
    },
    "language_info": {
      "name": "python"
    }
  },
  "nbformat": 4,
  "nbformat_minor": 0
}